{
 "cells": [
  {
   "cell_type": "code",
   "execution_count": 1,
   "metadata": {},
   "outputs": [],
   "source": [
    "import numpy as np\n",
    "import pandas as pd\n",
    "from sklearn.preprocessing import StandardScaler\n",
    "from sklearn.model_selection import train_test_split\n",
    "\n",
    "df = pd.read_csv(\"data/dataset_1.csv\")\n",
    "df = df.replace([np.inf, -np.inf], np.nan)\n",
    "df = df.dropna()\n",
    "label2id = {\n",
    "    \"DDoS\": 0,\n",
    "    \"PortScan\": 1,\n",
    "    \"BENIGN\": 2,\n",
    "}\n",
    "df[\"Label\"] = df[\"Label\"].map(label2id)\n",
    "Y = df[\"Label\"].values\n",
    "X = df.drop(columns=[\"Label\", \"IP\"]).values\n",
    "X_train1, *_ = train_test_split(X, Y, test_size=0.2, random_state=42)\n",
    "\n",
    "df = pd.read_csv(\"data/dataset_2.csv\")\n",
    "df = df.replace([np.inf, -np.inf], np.nan)\n",
    "df = df.dropna()\n",
    "label2id = {\n",
    "    \"DDoS\": 0,\n",
    "    \"PortScan\": 1,\n",
    "    \"BENIGN\": 2,\n",
    "}\n",
    "df[\"Label\"] = df[\"Label\"].map(label2id)\n",
    "Y = df[\"Label\"].values\n",
    "X = df.drop(columns=[\"Label\", \"IP\"]).values\n",
    "X_train2, *_ = train_test_split(X, Y, test_size=0.2, random_state=42)\n",
    "\n",
    "X = np.concatenate((X_train1, X_train2), axis=0)\n",
    "scaler = StandardScaler()\n",
    "scaler.fit(X)\n",
    "# Save scaler\n",
    "np.save(\"data/scaler.npy\", scaler)\n",
    "# Load scaler\n",
    "scaler = np.load(\"data/scaler.npy\", allow_pickle=True).item()\n",
    "X = scaler.transform(X)"
   ]
  },
  {
   "cell_type": "code",
   "execution_count": 2,
   "metadata": {},
   "outputs": [
    {
     "name": "stdout",
     "output_type": "stream",
     "text": [
      "[3.0 5.0 7.0 9.0 11.0]\n"
     ]
    }
   ],
   "source": [
    "import numpy as np\n",
    "from phe import paillier\n",
    "\n",
    "# Generate keypair\n",
    "public_key, private_key = paillier.generate_paillier_keypair()\n",
    "\n",
    "# Save keypair\n",
    "np.save(\"data/public_key.npy\", public_key)\n",
    "np.save(\"data/private_key.npy\", private_key)\n",
    "\n",
    "# Load keypair\n",
    "public_key = np.load(\"data/public_key.npy\", allow_pickle=True).item()\n",
    "private_key = np.load(\"data/private_key.npy\", allow_pickle=True).item()\n",
    "\n",
    "\n",
    "a = np.array([1, 2, 3, 4, 5], dtype=np.float64)\n",
    "b = np.array([2, 3, 4, 5, 6], dtype=np.float64)\n",
    "\n",
    "enc_operator = np.frompyfunc(public_key.encrypt, 1, 1)\n",
    "dec_operator = np.frompyfunc(private_key.decrypt, 1, 1)\n",
    "\n",
    "enc_a = enc_operator(a)\n",
    "enc_b = enc_operator(b)\n",
    "\n",
    "enc_sum = enc_a + enc_b\n",
    "res = dec_operator(enc_sum)\n",
    "print(res)"
   ]
  }
 ],
 "metadata": {
  "kernelspec": {
   "display_name": "fl",
   "language": "python",
   "name": "python3"
  },
  "language_info": {
   "codemirror_mode": {
    "name": "ipython",
    "version": 3
   },
   "file_extension": ".py",
   "mimetype": "text/x-python",
   "name": "python",
   "nbconvert_exporter": "python",
   "pygments_lexer": "ipython3",
   "version": "3.8.18"
  }
 },
 "nbformat": 4,
 "nbformat_minor": 2
}
